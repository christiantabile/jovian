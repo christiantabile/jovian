{
 "cells": [
  {
   "cell_type": "markdown",
   "metadata": {},
   "source": [
    "# Assignment 2 - Hash Tables in Python\n",
    "\n",
    "_This assignment is a part of the course [\"Data Structures and Algorithms in Python\"](https://jovian.ai/learn/data-structures-and-algorithms-in-python)._\n",
    "\n",
    "In this assignment, you will implement Python dictionaries from scratch using hash tables.\n",
    "\n",
    "As you go through this notebook, you will find the symbol **???** in certain places. To complete this assignment, you must replace all the **???** with appropriate values, expressions or statements to ensure that the notebook runs properly end-to-end. \n",
    "\n",
    "**Guidelines**\n",
    "\n",
    "1. Make sure to run all the code cells, otherwise you may get errors like `NameError` for undefined variables.\n",
    "2. Do not change variable names, delete cells or disturb other existing code. It may cause problems during evaluation.\n",
    "3. In some cases, you may need to add some code cells or new statements before or after the line of code containing the **???**. \n",
    "4. Since you'll be using a temporary online service for code execution, save your work by running `jovian.commit` at regular intervals.\n",
    "5. Questions marked **(Optional)** will not be considered for evaluation, and can be skipped. They are for your learning.\n",
    "6. If you are stuck, you can ask for help on the [community forum](https://jovian.ai/forum/c/data-structures-and-algorithms-in-python/assignment-2/88). Post errors or ask for hints, but **please don't ask for OR share the full working answer code** on the forum.\n",
    "7. There are some tests included with this notebook to help you test your implementation. However, after submission your code will be tested with some hidden test cases. Make sure to test your code exhaustively to cover all edge cases.\n",
    "\n",
    "\n",
    "**Important Links**\n",
    "\n",
    "* Submit your work here: https://jovian.ai/learn/data-structures-and-algorithms-in-python/assignment/assignment-2-hash-table-and-python-dictionaries\n",
    "* Ask questions and get help: https://jovian.ai/forum/c/data-structures-and-algorithms-in-python/assignment-2/88\n",
    "* Lesson 2 video for review: https://jovian.ai/aakashns/python-binary-search-trees\n",
    "* Lesson 2 notebook for review: https://jovian.ai/aakashns/python-binary-search-trees\n",
    "\n",
    "\n",
    "\n"
   ]
  },
  {
   "cell_type": "markdown",
   "metadata": {},
   "source": [
    "### How to Run the Code and Save Your Work\n",
    "\n",
    "**Option 1: Running using free online resources (1-click, recommended)**: Click the **Run** button at the top of this page and select **Run on Binder**. You can also select \"Run on Colab\" or \"Run on Kaggle\", but you'll need to create an account on [Google Colab](https://colab.research.google.com) or [Kaggle](https://kaggle.com) to use these platforms.\n",
    "\n",
    "\n",
    "**Option 2: Running on your computer locally**: To run the code on your computer locally, you'll need to set up [Python](https://www.python.org) & [Conda](https://docs.conda.io/projects/conda/en/latest/user-guide/install/), download the notebook and install the required libraries. Click the **Run** button at the top of this page, select the **Run Locally** option, and follow the instructions.\n",
    "\n",
    "**Saving your work**: You can save a snapshot of the assignment to your [Jovian](https://jovian.ai) profile, so that you can access it later and continue your work. Keep saving your work by running `jovian.commit` from time to time."
   ]
  },
  {
   "cell_type": "code",
   "execution_count": 63,
   "metadata": {},
   "outputs": [],
   "source": [
    "project='python-hash-tables-assignment'"
   ]
  },
  {
   "cell_type": "code",
   "execution_count": 64,
   "metadata": {},
   "outputs": [],
   "source": [
    "!pip install jovian --upgrade --quiet"
   ]
  },
  {
   "cell_type": "code",
   "execution_count": 66,
   "metadata": {},
   "outputs": [
    {
     "data": {
      "application/javascript": [
       "if (window.IPython && IPython.notebook.kernel) IPython.notebook.kernel.execute('jovian.utils.jupyter.get_notebook_name_saved = lambda: \"' + IPython.notebook.notebook_name + '\"')"
      ],
      "text/plain": [
       "<IPython.core.display.Javascript object>"
      ]
     },
     "metadata": {},
     "output_type": "display_data"
    },
    {
     "data": {
      "application/javascript": [
       "window.require && require([\"base/js/namespace\"],function(Jupyter){Jupyter.notebook.save_checkpoint()})"
      ],
      "text/plain": [
       "<IPython.core.display.Javascript object>"
      ]
     },
     "metadata": {},
     "output_type": "display_data"
    },
    {
     "name": "stdout",
     "output_type": "stream",
     "text": [
      "[jovian] Updating notebook \"christiantabile/python-hash-tables-assignment\" on https://jovian.ai/\n",
      "[jovian] Committed successfully! https://jovian.ai/christiantabile/python-hash-tables-assignment\n"
     ]
    },
    {
     "data": {
      "text/plain": [
       "'https://jovian.ai/christiantabile/python-hash-tables-assignment'"
      ]
     },
     "execution_count": 66,
     "metadata": {},
     "output_type": "execute_result"
    }
   ],
   "source": [
    "import jovian\n",
    "jovian.commit(project=project, privacy='secret', environment=None)"
   ]
  },
  {
   "cell_type": "markdown",
   "metadata": {},
   "source": [
    "## Problem Statement - Python Dictionaries and Hash Tables\n",
    "\n",
    "In this assignment, you will recreate Python dictionaries from scratch using data structure called *hash table*. ***Dictionaries in Python are used to store key-value pairs.*** Keys are used to store and retrieve values. For example, here's a dictionary for storing and retrieving phone numbers using people's names. "
   ]
  },
  {
   "cell_type": "code",
   "execution_count": 29,
   "metadata": {},
   "outputs": [
    {
     "data": {
      "text/plain": [
       "{'Aakash': '9489484949', 'Hemanth': '9595949494', 'Siddhant': '9231325312'}"
      ]
     },
     "execution_count": 29,
     "metadata": {},
     "output_type": "execute_result"
    }
   ],
   "source": [
    "phone_numbers = { # {} are used to define a dictionary (key, value)\n",
    "  'Aakash' : '9489484949',\n",
    "  'Hemanth' : '9595949494',\n",
    "  'Siddhant' : '9231325312'\n",
    "}\n",
    "phone_numbers"
   ]
  },
  {
   "cell_type": "markdown",
   "metadata": {},
   "source": [
    "You can access a person's phone number using their name as follows:"
   ]
  },
  {
   "cell_type": "code",
   "execution_count": 32,
   "metadata": {},
   "outputs": [
    {
     "data": {
      "text/plain": [
       "'7878787878'"
      ]
     },
     "execution_count": 32,
     "metadata": {},
     "output_type": "execute_result"
    }
   ],
   "source": [
    "phone_numbers['Aakash']"
   ]
  },
  {
   "cell_type": "markdown",
   "metadata": {},
   "source": [
    "You can store new phone numbers, or update existing ones as follows:"
   ]
  },
  {
   "cell_type": "code",
   "execution_count": 31,
   "metadata": {},
   "outputs": [
    {
     "data": {
      "text/plain": [
       "{'Aakash': '7878787878',\n",
       " 'Hemanth': '9595949494',\n",
       " 'Siddhant': '9231325312',\n",
       " 'Vishal': '8787878787'}"
      ]
     },
     "execution_count": 31,
     "metadata": {},
     "output_type": "execute_result"
    }
   ],
   "source": [
    "# Add a new value\n",
    "phone_numbers['Vishal'] = '8787878787'\n",
    "# Update existing value\n",
    "phone_numbers['Aakash'] = '7878787878'\n",
    "# View the updated dictionary\n",
    "phone_numbers"
   ]
  },
  {
   "cell_type": "markdown",
   "metadata": {},
   "source": [
    "You can also view all the names and phone numbers stored in `phone_numbers` using a `for` loop."
   ]
  },
  {
   "cell_type": "code",
   "execution_count": 33,
   "metadata": {},
   "outputs": [
    {
     "name": "stdout",
     "output_type": "stream",
     "text": [
      "Name: Aakash , Phone Number: 7878787878\n",
      "Name: Hemanth , Phone Number: 9595949494\n",
      "Name: Siddhant , Phone Number: 9231325312\n",
      "Name: Vishal , Phone Number: 8787878787\n"
     ]
    }
   ],
   "source": [
    "for name in phone_numbers:\n",
    "    print('Name:', name, ', Phone Number:', phone_numbers[name])"
   ]
  },
  {
   "cell_type": "markdown",
   "metadata": {},
   "source": [
    "Dictionaries in Python are implemented using a data structure called **hash table**. A hash table uses a list/array to store the key-value pairs, and uses a _hashing function_ to determine the index for storing or retrieving the data associated with a given key. \n",
    "\n",
    "Here's a visual representation of a hash table ([source](https://en.wikipedia.org/wiki/Hash_table)):\n",
    "\n",
    "<img src=\"https://i.imgur.com/5dPEmuY.png\" width=\"480\">\n",
    "\n",
    "Your objective in this assignment is to implement a `HashTable` class which supports the following operations:\n",
    "\n",
    "1. **Insert**: Insert a new key-value pair\n",
    "2. **Find**: Find the value associated with a key\n",
    "3. **Update**: Update the value associated with a key\n",
    "5. **List**: List all the keys stored in the hash table\n",
    "\n",
    "The `HashTable` class will have the following structure (note the function signatures):"
   ]
  },
  {
   "cell_type": "code",
   "execution_count": 8,
   "metadata": {},
   "outputs": [],
   "source": [
    "class HashTable:\n",
    "    def insert(self, key, value):\n",
    "        \"\"\"Insert a new key-value pair\"\"\"\n",
    "        pass\n",
    "    \n",
    "    def find(self, key):\n",
    "        \"\"\"Find the value associated with a key\"\"\"\n",
    "        pass\n",
    "    \n",
    "    def update(self, key, value):\n",
    "        \"\"\"Change the value associated with a key\"\"\"\n",
    "        pass\n",
    "    \n",
    "    def list_all(self):\n",
    "        \"\"\"List all the keys\"\"\"\n",
    "        pass"
   ]
  },
  {
   "cell_type": "markdown",
   "metadata": {},
   "source": [
    "Before we begin our implementation, let's save and commit our work."
   ]
  },
  {
   "cell_type": "code",
   "execution_count": 65,
   "metadata": {},
   "outputs": [
    {
     "ename": "NameError",
     "evalue": "name 'jovian' is not defined",
     "output_type": "error",
     "traceback": [
      "\u001b[0;31m---------------------------------------------------------------------------\u001b[0m",
      "\u001b[0;31mNameError\u001b[0m                                 Traceback (most recent call last)",
      "\u001b[0;32m<ipython-input-65-12d69af29472>\u001b[0m in \u001b[0;36m<module>\u001b[0;34m\u001b[0m\n\u001b[0;32m----> 1\u001b[0;31m \u001b[0mjovian\u001b[0m\u001b[0;34m.\u001b[0m\u001b[0mcommit\u001b[0m\u001b[0;34m(\u001b[0m\u001b[0mproject\u001b[0m\u001b[0;34m=\u001b[0m\u001b[0mproject\u001b[0m\u001b[0;34m)\u001b[0m\u001b[0;34m\u001b[0m\u001b[0;34m\u001b[0m\u001b[0m\n\u001b[0m",
      "\u001b[0;31mNameError\u001b[0m: name 'jovian' is not defined"
     ]
    }
   ],
   "source": [
    "jovian.commit(project=project)"
   ]
  },
  {
   "cell_type": "markdown",
   "metadata": {},
   "source": [
    "### Data List\n",
    "\n",
    "We'll build the `HashTable` class step-by-step. As a first step is to create a Python list which will hold all the key-value pairs. We'll start by creating a list of a fixed size.\n",
    "\n"
   ]
  },
  {
   "cell_type": "code",
   "execution_count": 4,
   "metadata": {},
   "outputs": [],
   "source": [
    "MAX_HASH_TABLE_SIZE = 4096"
   ]
  },
  {
   "cell_type": "markdown",
   "metadata": {},
   "source": [
    "**QUESTION 1: Create a Python list of size `MAX_HASH_TABLE_SIZE`, with all the values set to `None`.**\n",
    "\n",
    "_Hint_: Use the [`*` operator](https://stackoverflow.com/questions/3459098/create-list-of-single-item-repeated-n-times)."
   ]
  },
  {
   "cell_type": "code",
   "execution_count": 19,
   "metadata": {},
   "outputs": [],
   "source": [
    "# List of size MAX_HASH_TABLE_SIZE with all values None\n",
    "data_list = [None]*MAX_HASH_TABLE_SIZE\n",
    "# Can enter [None,...,None] 4096 times, or simply do above."
   ]
  },
  {
   "cell_type": "markdown",
   "metadata": {},
   "source": [
    "If the list was created successfully, the following *test cases* should output `True`."
   ]
  },
  {
   "cell_type": "code",
   "execution_count": 35,
   "metadata": {},
   "outputs": [
    {
     "data": {
      "text/plain": [
       "True"
      ]
     },
     "execution_count": 35,
     "metadata": {},
     "output_type": "execute_result"
    }
   ],
   "source": [
    "len(data_list) == 4096"
   ]
  },
  {
   "cell_type": "code",
   "execution_count": 37,
   "metadata": {},
   "outputs": [
    {
     "data": {
      "text/plain": [
       "True"
      ]
     },
     "execution_count": 37,
     "metadata": {},
     "output_type": "execute_result"
    }
   ],
   "source": [
    "data_list[99] == None"
   ]
  },
  {
   "cell_type": "code",
   "execution_count": 41,
   "metadata": {},
   "outputs": [],
   "source": [
    "for item in data_list:\n",
    "    assert item == None \n",
    "# Assert will throw an error if occurs, if not the code will pass through"
   ]
  },
  {
   "cell_type": "markdown",
   "metadata": {},
   "source": [
    "Let's save our work before continuing."
   ]
  },
  {
   "cell_type": "code",
   "execution_count": 14,
   "metadata": {},
   "outputs": [
    {
     "data": {
      "application/javascript": [
       "window.require && require([\"base/js/namespace\"],function(Jupyter){Jupyter.notebook.save_checkpoint()})"
      ],
      "text/plain": [
       "<IPython.core.display.Javascript object>"
      ]
     },
     "metadata": {},
     "output_type": "display_data"
    },
    {
     "name": "stdout",
     "output_type": "stream",
     "text": [
      "[jovian] Attempting to save notebook..\u001b[0m\n",
      "[jovian] Updating notebook \"aakashns/python-hash-tables-assignment\" on https://jovian.ai/\u001b[0m\n",
      "[jovian] Uploading notebook..\u001b[0m\n",
      "[jovian] Capturing environment..\u001b[0m\n",
      "[jovian] Committed successfully! https://jovian.ai/aakashns/python-hash-tables-assignment\u001b[0m\n"
     ]
    },
    {
     "data": {
      "text/plain": [
       "'https://jovian.ai/aakashns/python-hash-tables-assignment'"
      ]
     },
     "execution_count": 14,
     "metadata": {},
     "output_type": "execute_result"
    }
   ],
   "source": [
    "jovian.commit(project=project)"
   ]
  },
  {
   "cell_type": "markdown",
   "metadata": {},
   "source": [
    "### Hashing Function\n",
    "\n",
    "***A _hashing function_ is used to convert strings and other non-numeric data types into numbers, which can then be used as list indices.*** For instance, if a hashing function converts the string `\"Aakash\"` into the number `4`, then the key-value pair `('Aakash', '7878787878')` will be stored at the position `4` within the data list.\n",
    "\n",
    "Here's a simple algorithm for hashing, which can convert strings into numeric list indices.\n",
    "\n",
    "1. Iterate over the string, character by character\n",
    "2. Convert each character to a number using Python's built-in `ord` function.\n",
    "3. Add the numbers for each character to obtain the hash for the entire string \n",
    "4. Take the remainder of the result with the size of the data list\n",
    "\n",
    "\n",
    "**QUESTION 2: Complete the `get_index` function below which implements the hashing algorithm described above.**"
   ]
  },
  {
   "cell_type": "code",
   "execution_count": 20,
   "metadata": {},
   "outputs": [],
   "source": [
    "def get_index(data_list, a_string):\n",
    "    # Variable to store the result (updated after each iteration)\n",
    "    result = 0\n",
    "    \n",
    "    for a_character in a_string:\n",
    "        # Convert the character to a number (using ord)\n",
    "        a_number = ord(a_character)\n",
    "        # Update result by adding the number\n",
    "        result += a_number\n",
    "    \n",
    "    # Take the remainder of the result with the size of the data list\n",
    "    list_index = result % len(data_list)\n",
    "    return list_index"
   ]
  },
  {
   "cell_type": "markdown",
   "metadata": {},
   "source": [
    "If the `get_index` function was defined correctly, the following cells should output `True`."
   ]
  },
  {
   "cell_type": "code",
   "execution_count": 21,
   "metadata": {},
   "outputs": [
    {
     "data": {
      "text/plain": [
       "True"
      ]
     },
     "execution_count": 21,
     "metadata": {},
     "output_type": "execute_result"
    }
   ],
   "source": [
    "get_index(data_list, '') == 0"
   ]
  },
  {
   "cell_type": "code",
   "execution_count": 55,
   "metadata": {},
   "outputs": [
    {
     "data": {
      "text/plain": [
       "True"
      ]
     },
     "execution_count": 55,
     "metadata": {},
     "output_type": "execute_result"
    }
   ],
   "source": [
    "get_index(data_list, 'Aakash') == 585"
   ]
  },
  {
   "cell_type": "code",
   "execution_count": 23,
   "metadata": {},
   "outputs": [
    {
     "data": {
      "text/plain": [
       "True"
      ]
     },
     "execution_count": 23,
     "metadata": {},
     "output_type": "execute_result"
    }
   ],
   "source": [
    "get_index(data_list, 'Don O Leary') == 941"
   ]
  },
  {
   "cell_type": "markdown",
   "metadata": {},
   "source": [
    "**(Optional)** Test the `get_index` function using the empty cells below."
   ]
  },
  {
   "cell_type": "code",
   "execution_count": 51,
   "metadata": {},
   "outputs": [],
   "source": [
    "data2 = [None] * 56"
   ]
  },
  {
   "cell_type": "code",
   "execution_count": 49,
   "metadata": {},
   "outputs": [
    {
     "data": {
      "text/plain": [
       "585"
      ]
     },
     "execution_count": 49,
     "metadata": {},
     "output_type": "execute_result"
    }
   ],
   "source": [
    "ord('A') + ord('a') + ord('k') + ord('a') + ord('s') + ord('h')"
   ]
  },
  {
   "cell_type": "code",
   "execution_count": 52,
   "metadata": {},
   "outputs": [
    {
     "data": {
      "text/plain": [
       "25"
      ]
     },
     "execution_count": 52,
     "metadata": {},
     "output_type": "execute_result"
    }
   ],
   "source": [
    "585 % 56"
   ]
  },
  {
   "cell_type": "code",
   "execution_count": 54,
   "metadata": {},
   "outputs": [
    {
     "data": {
      "text/plain": [
       "True"
      ]
     },
     "execution_count": 54,
     "metadata": {},
     "output_type": "execute_result"
    }
   ],
   "source": [
    "get_index(data2, 'Aakash') == 25 # 25 is expected if list size is 56 and key is 'Aakash'\n",
    "                                # note: if MAX_HASH_TABLE_SIZE was used instead of the size of the data, 25 would not prove true"
   ]
  },
  {
   "cell_type": "markdown",
   "metadata": {},
   "source": [
    "#### Insert\n",
    "\n",
    "To insert a key-value pair into a hash table, we can simply get the hash of the key, and store the pair at that index in the data list."
   ]
  },
  {
   "cell_type": "code",
   "execution_count": 56,
   "metadata": {},
   "outputs": [],
   "source": [
    "key, value = 'Aakash', '7878787878'"
   ]
  },
  {
   "cell_type": "code",
   "execution_count": 58,
   "metadata": {},
   "outputs": [
    {
     "data": {
      "text/plain": [
       "585"
      ]
     },
     "execution_count": 58,
     "metadata": {},
     "output_type": "execute_result"
    }
   ],
   "source": [
    "idx = get_index(data_list, key) #get_index produces a 'hash' of a key\n",
    "idx"
   ]
  },
  {
   "cell_type": "code",
   "execution_count": 59,
   "metadata": {},
   "outputs": [],
   "source": [
    "data_list[idx] = (key, value)"
   ]
  },
  {
   "cell_type": "markdown",
   "metadata": {},
   "source": [
    "Here's the same operation expressed in a single line of code."
   ]
  },
  {
   "cell_type": "code",
   "execution_count": 60,
   "metadata": {},
   "outputs": [],
   "source": [
    "data_list[get_index(data_list, 'Hemanth')] = ('Hemanth', '9595949494')"
   ]
  },
  {
   "cell_type": "markdown",
   "metadata": {},
   "source": [
    "#### Find\n",
    "\n",
    "The retrieve the value associated with a pair, we can get the hash of the key and look up that index in the data list."
   ]
  },
  {
   "cell_type": "code",
   "execution_count": 61,
   "metadata": {},
   "outputs": [
    {
     "data": {
      "text/plain": [
       "585"
      ]
     },
     "execution_count": 61,
     "metadata": {},
     "output_type": "execute_result"
    }
   ],
   "source": [
    "idx = get_index(data_list, 'Aakash')\n",
    "idx"
   ]
  },
  {
   "cell_type": "code",
   "execution_count": 63,
   "metadata": {},
   "outputs": [
    {
     "data": {
      "text/plain": [
       "'7878787878'"
      ]
     },
     "execution_count": 63,
     "metadata": {},
     "output_type": "execute_result"
    }
   ],
   "source": [
    "key, value = data_list[idx]\n",
    "value"
   ]
  },
  {
   "cell_type": "markdown",
   "metadata": {},
   "source": [
    "#### List\n",
    "\n",
    "To get the list of keys, we can use a simple [list comprehension](https://www.w3schools.com/python/python_lists_comprehension.asp)."
   ]
  },
  {
   "cell_type": "code",
   "execution_count": 81,
   "metadata": {},
   "outputs": [],
   "source": [
    "list1 = [1.3, 2.8, 3.7, 6, 7]"
   ]
  },
  {
   "cell_type": "code",
   "execution_count": 89,
   "metadata": {},
   "outputs": [],
   "source": [
    "list2 = [x*x for x in list1]"
   ]
  },
  {
   "cell_type": "code",
   "execution_count": 87,
   "metadata": {},
   "outputs": [],
   "source": [
    "import math\n",
    "list2 = [math.ceil(x) for x in list1]"
   ]
  },
  {
   "cell_type": "code",
   "execution_count": 91,
   "metadata": {},
   "outputs": [],
   "source": [
    "list2 = [math.ceil(x) for x in list1 if x > 3]"
   ]
  },
  {
   "cell_type": "code",
   "execution_count": 92,
   "metadata": {},
   "outputs": [
    {
     "data": {
      "text/plain": [
       "[4, 6, 7]"
      ]
     },
     "execution_count": 92,
     "metadata": {},
     "output_type": "execute_result"
    }
   ],
   "source": [
    "list2"
   ]
  },
  {
   "cell_type": "code",
   "execution_count": 98,
   "metadata": {},
   "outputs": [
    {
     "data": {
      "text/plain": [
       "('Aakash', '343434')"
      ]
     },
     "execution_count": 98,
     "metadata": {},
     "output_type": "execute_result"
    }
   ],
   "source": [
    "kv = 'Aakash', '343434'\n",
    "kv[0], kv[1]"
   ]
  },
  {
   "cell_type": "code",
   "execution_count": 99,
   "metadata": {},
   "outputs": [
    {
     "data": {
      "text/plain": [
       "('Aakash', '343434')"
      ]
     },
     "execution_count": 99,
     "metadata": {},
     "output_type": "execute_result"
    }
   ],
   "source": [
    "kv"
   ]
  },
  {
   "cell_type": "code",
   "execution_count": 101,
   "metadata": {},
   "outputs": [],
   "source": [
    "keys = [kv[0] for kv in data_list if kv is not None]"
   ]
  },
  {
   "cell_type": "code",
   "execution_count": 102,
   "metadata": {},
   "outputs": [
    {
     "data": {
      "text/plain": [
       "['Aakash', 'Hemanth']"
      ]
     },
     "execution_count": 102,
     "metadata": {},
     "output_type": "execute_result"
    }
   ],
   "source": [
    "keys"
   ]
  },
  {
   "cell_type": "markdown",
   "metadata": {},
   "source": [
    "Let's save our work before continuing."
   ]
  },
  {
   "cell_type": "code",
   "execution_count": 28,
   "metadata": {},
   "outputs": [
    {
     "data": {
      "application/javascript": [
       "window.require && require([\"base/js/namespace\"],function(Jupyter){Jupyter.notebook.save_checkpoint()})"
      ],
      "text/plain": [
       "<IPython.core.display.Javascript object>"
      ]
     },
     "metadata": {},
     "output_type": "display_data"
    },
    {
     "name": "stdout",
     "output_type": "stream",
     "text": [
      "[jovian] Attempting to save notebook..\u001b[0m\n",
      "[jovian] Updating notebook \"aakashns/python-hash-tables-assignment\" on https://jovian.ai/\u001b[0m\n",
      "[jovian] Uploading notebook..\u001b[0m\n",
      "[jovian] Capturing environment..\u001b[0m\n",
      "[jovian] Committed successfully! https://jovian.ai/aakashns/python-hash-tables-assignment\u001b[0m\n"
     ]
    },
    {
     "data": {
      "text/plain": [
       "'https://jovian.ai/aakashns/python-hash-tables-assignment'"
      ]
     },
     "execution_count": 28,
     "metadata": {},
     "output_type": "execute_result"
    }
   ],
   "source": [
    "jovian.commit(project=project)"
   ]
  },
  {
   "cell_type": "markdown",
   "metadata": {},
   "source": [
    "### Basic Hash Table Implementation\n",
    "\n",
    "We can now use the hashing function defined above to implement a basic hash table in Python.\n",
    "\n",
    "\n",
    "**QUESTION 3: Complete the hash table implementation below by following the instructions in the comments.**\n",
    "\n",
    "_Hint_: Insert and update can have identical implementations.\n"
   ]
  },
  {
   "cell_type": "code",
   "execution_count": 70,
   "metadata": {},
   "outputs": [],
   "source": [
    "class BasicHashTable:\n",
    "    def __init__(self, max_size=MAX_HASH_TABLE_SIZE): #good\n",
    "        # 1. Create a list of size `max_size` with all values None\n",
    "        self.data_list = [None] * max_size\n",
    "     \n",
    "    \n",
    "    def insert(self, key, value): #good\n",
    "        # 1. Find the index for the key using get_index\n",
    "        idx = get_index(self.data_list, key) # returns a hash value, \n",
    "                                        # (think an index of an array)\n",
    "        \n",
    "        # 2. Store the key-value pair at the right index\n",
    "        self.data_list[idx] = key, value # with index value, store key, value\n",
    "    \n",
    "    \n",
    "    def find(self, key):\n",
    "        # 1. Find the index for the key using get_index\n",
    "        idx = get_index(self.data_list, key)\n",
    "        \n",
    "        # 2. Retrieve the data stored at the index\n",
    "        kv = self.data_list[idx]\n",
    "        \n",
    "        # 3. Return the value if found, else return None\n",
    "        if kv is None: # there is nothing at the current index\n",
    "            return None \n",
    "        else:\n",
    "            key, value = kv\n",
    "            return value\n",
    "    \n",
    "    \n",
    "    def update(self, key, value):\n",
    "        # 1. Find the index for the key using get_index\n",
    "        idx = get_index(self.data_list, key)\n",
    "        \n",
    "        # 2. Store the new key-value pair at the right index\n",
    "        self.data_list[idx] = key, value\n",
    "\n",
    "    \n",
    "    def list_all(self):\n",
    "        # 1. Extract the key from each key-value pair \n",
    "        return [kv[0] for kv in self.data_list if kv is not None] # kv[0] will list keys, kv[1] lists values"
   ]
  },
  {
   "cell_type": "markdown",
   "metadata": {},
   "source": [
    "If the `BasicHashTable` class was defined correctly, the following cells should output `True`."
   ]
  },
  {
   "cell_type": "code",
   "execution_count": 80,
   "metadata": {},
   "outputs": [
    {
     "data": {
      "text/plain": [
       "True"
      ]
     },
     "execution_count": 80,
     "metadata": {},
     "output_type": "execute_result"
    }
   ],
   "source": [
    "basic_table = BasicHashTable(max_size=1024)\n",
    "len(basic_table.data_list) == 1024"
   ]
  },
  {
   "cell_type": "code",
   "execution_count": 81,
   "metadata": {},
   "outputs": [
    {
     "data": {
      "text/plain": [
       "True"
      ]
     },
     "execution_count": 81,
     "metadata": {},
     "output_type": "execute_result"
    }
   ],
   "source": [
    "# Insert some values\n",
    "basic_table.insert('Aakash', '9999999999')\n",
    "basic_table.insert('Hemanth', '8888888888')\n",
    "\n",
    "# Find a value\n",
    "basic_table.find('Hemanth') == '8888888888'"
   ]
  },
  {
   "cell_type": "code",
   "execution_count": 82,
   "metadata": {},
   "outputs": [
    {
     "data": {
      "text/plain": [
       "True"
      ]
     },
     "execution_count": 82,
     "metadata": {},
     "output_type": "execute_result"
    }
   ],
   "source": [
    "# Update a value\n",
    "basic_table.update('Aakash', '7777777777')\n",
    "\n",
    "# Check the updated value\n",
    "basic_table.find('Aakash') == '7777777777'"
   ]
  },
  {
   "cell_type": "code",
   "execution_count": 83,
   "metadata": {},
   "outputs": [
    {
     "data": {
      "text/plain": [
       "True"
      ]
     },
     "execution_count": 83,
     "metadata": {},
     "output_type": "execute_result"
    }
   ],
   "source": [
    "# Get the list of keys\n",
    "basic_table.list_all() == ['Aakash', 'Hemanth']"
   ]
  },
  {
   "cell_type": "markdown",
   "metadata": {},
   "source": [
    "(Optional) Test your implementation of `BasicHashTable` with some more examples below."
   ]
  },
  {
   "cell_type": "markdown",
   "metadata": {},
   "source": [
    "Let's save our work before continuing."
   ]
  },
  {
   "cell_type": "code",
   "execution_count": 43,
   "metadata": {},
   "outputs": [
    {
     "data": {
      "application/javascript": [
       "window.require && require([\"base/js/namespace\"],function(Jupyter){Jupyter.notebook.save_checkpoint()})"
      ],
      "text/plain": [
       "<IPython.core.display.Javascript object>"
      ]
     },
     "metadata": {},
     "output_type": "display_data"
    },
    {
     "name": "stdout",
     "output_type": "stream",
     "text": [
      "[jovian] Attempting to save notebook..\u001b[0m\n",
      "[jovian] Updating notebook \"aakashns/python-hash-tables-assignment\" on https://jovian.ai/\u001b[0m\n",
      "[jovian] Uploading notebook..\u001b[0m\n",
      "[jovian] Capturing environment..\u001b[0m\n",
      "[jovian] Committed successfully! https://jovian.ai/aakashns/python-hash-tables-assignment\u001b[0m\n"
     ]
    },
    {
     "data": {
      "text/plain": [
       "'https://jovian.ai/aakashns/python-hash-tables-assignment'"
      ]
     },
     "execution_count": 43,
     "metadata": {},
     "output_type": "execute_result"
    }
   ],
   "source": [
    "jovian.commit(project=project)"
   ]
  },
  {
   "cell_type": "markdown",
   "metadata": {},
   "source": [
    "### Handling Collisions with Linear Probing\n",
    "\n",
    "As you might have wondered, multiple keys can have the same hash. For instance, the keys `\"listen\"` and `\"silent\"` have the same hash. This is referred to as _collision_. Data stored against one key may override the data stored against another, if they have the same hash.\n"
   ]
  },
  {
   "cell_type": "code",
   "execution_count": 84,
   "metadata": {},
   "outputs": [],
   "source": [
    "basic_table.insert('listen', 99)"
   ]
  },
  {
   "cell_type": "code",
   "execution_count": 85,
   "metadata": {},
   "outputs": [],
   "source": [
    "basic_table.insert('silent', 200)"
   ]
  },
  {
   "cell_type": "code",
   "execution_count": 86,
   "metadata": {},
   "outputs": [
    {
     "data": {
      "text/plain": [
       "200"
      ]
     },
     "execution_count": 86,
     "metadata": {},
     "output_type": "execute_result"
    }
   ],
   "source": [
    "basic_table.find('listen')"
   ]
  },
  {
   "cell_type": "markdown",
   "metadata": {},
   "source": [
    "As you can see above, the value for the key `listen` was overwritten by the value for the key `silent`. Our hash table implementation is incomplete because it does not handle collisions correctly.\n",
    "\n",
    "To handle collisions we'll use a technique called linear probing. Here's how it works: \n",
    "\n",
    "1. While inserting a new key-value pair if the target index for a key is occupied by another key, then we try the next index, followed by the next and so on till we the closest empty location.\n",
    "\n",
    "2. While finding a key-value pair, we apply the same strategy, but instead of searching for an empty location, we look for a location which contains a key-value pair with the matching key.\n",
    "\n",
    "2. While updating a key-value pair, we apply the same strategy, but instead of searching for an empty location, we look for a location which contains a key-value pair with the matching key, and update its value.\n",
    "\n",
    "\n",
    "We'll define a function called `get_valid_index`, which starts searching the data list from the index determined by the hashing function `get_index` and returns the first index which is either empty or contains a key-value pair matching the given key.\n",
    "\n",
    "**QUESTION 4: Complete the function `get_valid_index` below by following the instructions in the comments.**"
   ]
  },
  {
   "cell_type": "code",
   "execution_count": 101,
   "metadata": {},
   "outputs": [],
   "source": [
    "def get_valid_index(data_list, key):\n",
    "    # Start with the index returned by get_index\n",
    "    idx = get_index(data_list, key)\n",
    "    \n",
    "    while True:\n",
    "        # Get the key-value pair stored at idx\n",
    "        kv = data_list[idx]\n",
    "        \n",
    "        # If it is None, return the index\n",
    "        if kv is None:\n",
    "            return idx\n",
    "        \n",
    "        # If the stored key matches the given key, return the index\n",
    "        k, v = kv\n",
    "        if key == k:\n",
    "            return idx\n",
    "        \n",
    "        # Move to the next index\n",
    "        idx += 1\n",
    "        \n",
    "        # Go back to the start if you have reached the end of the array\n",
    "        if idx == len(data_list):\n",
    "            idx = 0"
   ]
  },
  {
   "cell_type": "markdown",
   "metadata": {},
   "source": [
    "If `get_valid_index` was defined correctly, the following cells should output `True`."
   ]
  },
  {
   "cell_type": "code",
   "execution_count": 102,
   "metadata": {},
   "outputs": [
    {
     "data": {
      "text/plain": [
       "True"
      ]
     },
     "execution_count": 102,
     "metadata": {},
     "output_type": "execute_result"
    }
   ],
   "source": [
    "# Create an empty hash table\n",
    "data_list2 = [None] * MAX_HASH_TABLE_SIZE\n",
    "\n",
    "# New key 'listen' should return expected index\n",
    "get_valid_index(data_list2, 'listen') == 655"
   ]
  },
  {
   "cell_type": "code",
   "execution_count": 91,
   "metadata": {},
   "outputs": [
    {
     "data": {
      "text/plain": [
       "True"
      ]
     },
     "execution_count": 91,
     "metadata": {},
     "output_type": "execute_result"
    }
   ],
   "source": [
    "# Insert a key-value pair for the key 'listen'\n",
    "data_list2[get_index(data_list2, 'listen')] = ('listen', 99)\n",
    "\n",
    "# Colliding key 'silent' should return next index\n",
    "get_valid_index(data_list2, 'silent') == 656"
   ]
  },
  {
   "cell_type": "markdown",
   "metadata": {},
   "source": [
    "(Optional) Test your implementation of `get_valid_index` on some more examples using the empty cells below."
   ]
  },
  {
   "cell_type": "code",
   "execution_count": null,
   "metadata": {},
   "outputs": [],
   "source": []
  },
  {
   "cell_type": "code",
   "execution_count": null,
   "metadata": {},
   "outputs": [],
   "source": []
  },
  {
   "cell_type": "code",
   "execution_count": null,
   "metadata": {},
   "outputs": [],
   "source": []
  },
  {
   "cell_type": "markdown",
   "metadata": {},
   "source": [
    "Let's save our work before continuing."
   ]
  },
  {
   "cell_type": "code",
   "execution_count": 103,
   "metadata": {},
   "outputs": [
    {
     "data": {
      "application/javascript": [
       "window.require && require([\"base/js/namespace\"],function(Jupyter){Jupyter.notebook.save_checkpoint()})"
      ],
      "text/plain": [
       "<IPython.core.display.Javascript object>"
      ]
     },
     "metadata": {},
     "output_type": "display_data"
    },
    {
     "name": "stdout",
     "output_type": "stream",
     "text": [
      "[jovian] Updating notebook \"christiantabile/python-hash-tables-assignment\" on https://jovian.ai/\n",
      "[jovian] Committed successfully! https://jovian.ai/christiantabile/python-hash-tables-assignment\n"
     ]
    },
    {
     "data": {
      "text/plain": [
       "'https://jovian.ai/christiantabile/python-hash-tables-assignment'"
      ]
     },
     "execution_count": 103,
     "metadata": {},
     "output_type": "execute_result"
    }
   ],
   "source": [
    "jovian.commit(project=project)"
   ]
  },
  {
   "cell_type": "markdown",
   "metadata": {},
   "source": [
    "### Hash Table with Linear Probing\n",
    "\n",
    "We can now implement a hash table with linear probing.\n",
    "\n",
    "**QUESTION 5: Complete the hash table (with linear probing) implementation below by following the instructions in the comments.**"
   ]
  },
  {
   "cell_type": "code",
   "execution_count": 112,
   "metadata": {},
   "outputs": [],
   "source": [
    "class ProbingHashTable:\n",
    "    def __init__(self, max_size=MAX_HASH_TABLE_SIZE):\n",
    "        # 1. Create a list of size `max_size` with all values None\n",
    "        self.data_list = [None] * max_size\n",
    "     \n",
    "    \n",
    "    def insert(self, key, value):\n",
    "        # 1. Find the index for the key using get_valid_index\n",
    "        idx = get_valid_index(self.data_list, key)\n",
    "        \n",
    "        # 2. Store the key-value pair at the right index\n",
    "        self.data_list[idx] = key, value\n",
    "    \n",
    "    \n",
    "    def find(self, key):\n",
    "        # 1. Find the index for the key using get_valid_index\n",
    "        idx = get_valid_index(self.data_list, key)\n",
    "        \n",
    "        # 2. Retrieve the data stored at the index\n",
    "        kv = self.data_list[idx]\n",
    "        \n",
    "        # 3. Return the value if found, else return None\n",
    "        return None if kv is None else kv[1] # return none if kv is empty, else return value\n",
    "    \n",
    "    \n",
    "    def update(self, key, value):\n",
    "        # 1. Find the index for the key using get_valid_index\n",
    "        idx = get_valid_index(self.data_list, key)\n",
    "        \n",
    "        # 2. Store the new key-value pair at the right index\n",
    "        self.data_list[idx] = key, value\n",
    "\n",
    "    \n",
    "    def list_all(self):\n",
    "        # 1. Extract the key from each key-value pair \n",
    "        return [kv[0] for kv in self.data_list if kv is not None]"
   ]
  },
  {
   "cell_type": "markdown",
   "metadata": {},
   "source": [
    "If the `ProbingHashTable` class was defined correctly, the following cells should output `True`."
   ]
  },
  {
   "cell_type": "code",
   "execution_count": 104,
   "metadata": {},
   "outputs": [
    {
     "data": {
      "text/plain": [
       "True"
      ]
     },
     "execution_count": 104,
     "metadata": {},
     "output_type": "execute_result"
    }
   ],
   "source": [
    "# Create a new hash table\n",
    "probing_table = ProbingHashTable()\n",
    "\n",
    "# Insert a value\n",
    "probing_table.insert('listen', 99)\n",
    "\n",
    "# Check the value\n",
    "probing_table.find('listen') == 99"
   ]
  },
  {
   "cell_type": "code",
   "execution_count": 105,
   "metadata": {},
   "outputs": [
    {
     "data": {
      "text/plain": [
       "True"
      ]
     },
     "execution_count": 105,
     "metadata": {},
     "output_type": "execute_result"
    }
   ],
   "source": [
    "# Insert a colliding key\n",
    "probing_table.insert('silent', 200)\n",
    "\n",
    "# Check the new and old keys\n",
    "probing_table.find('listen') == 99 and probing_table.find('silent') == 200"
   ]
  },
  {
   "cell_type": "code",
   "execution_count": 106,
   "metadata": {},
   "outputs": [
    {
     "data": {
      "text/plain": [
       "True"
      ]
     },
     "execution_count": 106,
     "metadata": {},
     "output_type": "execute_result"
    }
   ],
   "source": [
    "# Update a key\n",
    "probing_table.insert('listen', 101)\n",
    "\n",
    "# Check the value\n",
    "probing_table.find('listen') == 101"
   ]
  },
  {
   "cell_type": "code",
   "execution_count": 107,
   "metadata": {},
   "outputs": [
    {
     "data": {
      "text/plain": [
       "True"
      ]
     },
     "execution_count": 107,
     "metadata": {},
     "output_type": "execute_result"
    }
   ],
   "source": [
    "probing_table.list_all() == ['listen', 'silent']"
   ]
  },
  {
   "cell_type": "markdown",
   "metadata": {},
   "source": [
    "(Optional) Test your implementation of `ProbingHashTable` using the empty cells below."
   ]
  },
  {
   "cell_type": "code",
   "execution_count": null,
   "metadata": {},
   "outputs": [],
   "source": []
  },
  {
   "cell_type": "code",
   "execution_count": null,
   "metadata": {},
   "outputs": [],
   "source": []
  },
  {
   "cell_type": "code",
   "execution_count": null,
   "metadata": {},
   "outputs": [],
   "source": []
  },
  {
   "cell_type": "markdown",
   "metadata": {},
   "source": [
    "Save your work before continuing."
   ]
  },
  {
   "cell_type": "code",
   "execution_count": 109,
   "metadata": {},
   "outputs": [
    {
     "data": {
      "application/javascript": [
       "window.require && require([\"base/js/namespace\"],function(Jupyter){Jupyter.notebook.save_checkpoint()})"
      ],
      "text/plain": [
       "<IPython.core.display.Javascript object>"
      ]
     },
     "metadata": {},
     "output_type": "display_data"
    },
    {
     "name": "stdout",
     "output_type": "stream",
     "text": [
      "[jovian] Updating notebook \"christiantabile/python-hash-tables-assignment\" on https://jovian.ai/\n",
      "[jovian] Committed successfully! https://jovian.ai/christiantabile/python-hash-tables-assignment\n"
     ]
    },
    {
     "data": {
      "text/plain": [
       "'https://jovian.ai/christiantabile/python-hash-tables-assignment'"
      ]
     },
     "execution_count": 109,
     "metadata": {},
     "output_type": "execute_result"
    }
   ],
   "source": [
    "jovian.commit(project=project)"
   ]
  },
  {
   "cell_type": "markdown",
   "metadata": {},
   "source": [
    "### Make a Submission\n",
    "\n",
    "Congrats! You have now implemented hash tables from scratch. The rest of this assignment is optional. \n",
    "\n",
    "You can make a submission on this page: https://jovian.ai/learn/data-structures-and-algorithms-in-python/assignment/assignment-2-hash-table-and-python-dictionaries . Submit the link to your Jovian notebook (the output of the previous cell).\n",
    "\n",
    "\n",
    "You can also make a direct submission by executing the following cell:"
   ]
  },
  {
   "cell_type": "code",
   "execution_count": 113,
   "metadata": {},
   "outputs": [
    {
     "data": {
      "application/javascript": [
       "window.require && require([\"base/js/namespace\"],function(Jupyter){Jupyter.notebook.save_checkpoint()})"
      ],
      "text/plain": [
       "<IPython.core.display.Javascript object>"
      ]
     },
     "metadata": {},
     "output_type": "display_data"
    },
    {
     "name": "stdout",
     "output_type": "stream",
     "text": [
      "[jovian] Updating notebook \"christiantabile/python-hash-tables-assignment\" on https://jovian.ai/\n",
      "[jovian] Committed successfully! https://jovian.ai/christiantabile/python-hash-tables-assignment\n",
      "[jovian] Submitting assignment..\n",
      "[jovian] Verify your submission at https://jovian.ai/learn/data-structures-and-algorithms-in-python/assignment/assignment-2-hash-table-and-python-dictionaries\n"
     ]
    }
   ],
   "source": [
    "jovian.submit(assignment=\"pythondsa-assignment2\")"
   ]
  },
  {
   "cell_type": "markdown",
   "metadata": {},
   "source": [
    "If you are stuck, you can get help on the forum: https://jovian.ai/forum/c/data-structures-and-algorithms-in-python/assignment-2/88"
   ]
  },
  {
   "cell_type": "markdown",
   "metadata": {},
   "source": [
    "### (Optional) Python Dictionaries using Hash Tables\n",
    "\n",
    "We can now implement Python dictionaries using hash tables. Also, Python provides a built-in function called `hash` which we can use instead of our custom hash function. It is likely to have far fewer collisions\n",
    "\n",
    "**(Optional) Question: Implement a python-friendly interface for the hash table.**"
   ]
  },
  {
   "cell_type": "code",
   "execution_count": 84,
   "metadata": {},
   "outputs": [],
   "source": [
    "MAX_HASH_TABLE_SIZE = 4096\n",
    "\n",
    "class HashTable:\n",
    "    def __init__(self, max_size=MAX_HASH_TABLE_SIZE):\n",
    "        self.data_list = [None] * max_size\n",
    "        \n",
    "    def get_valid_index(self, key):\n",
    "        # Use Python's in-built `hash` function and implement linear probing\n",
    "        pass # change this\n",
    "        \n",
    "    def __getitem__(self, key):\n",
    "        # Implement the logic for \"find\" here\n",
    "        pass # change this\n",
    "    \n",
    "    def __setitem__(self, key, value):\n",
    "        # Implement the logic for \"insert/update\" here\n",
    "        pass # change this\n",
    "    \n",
    "    def __iter__(self):\n",
    "        return (x for x in self.data_list if x is not None)\n",
    "    \n",
    "    def __len__(self):\n",
    "        return len([x for x in self])\n",
    "    \n",
    "    def __repr__(self):\n",
    "        from textwrap import indent\n",
    "        pairs = [indent(\"{} : {}\".format(repr(kv[0]), repr(kv[1])), '  ') for kv in self]\n",
    "        return \"{\\n\" + \"{}\".format(',\\n'.join(pairs)) + \"\\n}\"\n",
    "    \n",
    "    def __str__(self):\n",
    "        return repr(self)"
   ]
  },
  {
   "cell_type": "markdown",
   "metadata": {},
   "source": [
    "If the `HashTable` class was defined correctly, the following cells should output `True`."
   ]
  },
  {
   "cell_type": "code",
   "execution_count": 86,
   "metadata": {},
   "outputs": [
    {
     "data": {
      "text/plain": [
       "True"
      ]
     },
     "execution_count": 86,
     "metadata": {},
     "output_type": "execute_result"
    }
   ],
   "source": [
    "# Create a hash table\n",
    "table = HashTable()\n",
    "\n",
    "# Insert some key-value pairs\n",
    "table['a'] = 1\n",
    "table['b'] = 34\n",
    "\n",
    "# Retrieve the inserted values\n",
    "table['a'] == 1 and table['b'] == 34"
   ]
  },
  {
   "cell_type": "code",
   "execution_count": 87,
   "metadata": {},
   "outputs": [
    {
     "data": {
      "text/plain": [
       "True"
      ]
     },
     "execution_count": 87,
     "metadata": {},
     "output_type": "execute_result"
    }
   ],
   "source": [
    "# Update a value\n",
    "table['a'] = 99\n",
    "\n",
    "# Check the updated value\n",
    "table['a'] == 99"
   ]
  },
  {
   "cell_type": "code",
   "execution_count": 88,
   "metadata": {},
   "outputs": [
    {
     "data": {
      "text/plain": [
       "True"
      ]
     },
     "execution_count": 88,
     "metadata": {},
     "output_type": "execute_result"
    }
   ],
   "source": [
    "# Get a list of key-value pairs\n",
    "list(table) == [('a', 99), ('b', 34)]"
   ]
  },
  {
   "cell_type": "markdown",
   "metadata": {},
   "source": [
    "Since we have also implemented the `__repr__` and `__str__` functions, the output of the next cell should be:\n",
    "\n",
    "```\n",
    "{\n",
    "  'a' : 99,\n",
    "  'b' : 34\n",
    "}\n",
    "```"
   ]
  },
  {
   "cell_type": "code",
   "execution_count": 89,
   "metadata": {},
   "outputs": [
    {
     "data": {
      "text/plain": [
       "{\n",
       "  'a' : 99,\n",
       "  'b' : 34\n",
       "}"
      ]
     },
     "execution_count": 89,
     "metadata": {},
     "output_type": "execute_result"
    }
   ],
   "source": [
    "table"
   ]
  },
  {
   "cell_type": "markdown",
   "metadata": {},
   "source": [
    "Let's save our work before continuing."
   ]
  },
  {
   "cell_type": "code",
   "execution_count": 90,
   "metadata": {},
   "outputs": [],
   "source": [
    "import jovian"
   ]
  },
  {
   "cell_type": "code",
   "execution_count": 92,
   "metadata": {},
   "outputs": [
    {
     "data": {
      "application/javascript": [
       "window.require && require([\"base/js/namespace\"],function(Jupyter){Jupyter.notebook.save_checkpoint()})"
      ],
      "text/plain": [
       "<IPython.core.display.Javascript object>"
      ]
     },
     "metadata": {},
     "output_type": "display_data"
    },
    {
     "name": "stdout",
     "output_type": "stream",
     "text": [
      "[jovian] Attempting to save notebook..\u001b[0m\n",
      "[jovian] Updating notebook \"aakashns/python-hash-tables-assignment\" on https://jovian.ai/\u001b[0m\n",
      "[jovian] Uploading notebook..\u001b[0m\n",
      "[jovian] Capturing environment..\u001b[0m\n",
      "[jovian] Committed successfully! https://jovian.ai/aakashns/python-hash-tables-assignment\u001b[0m\n"
     ]
    },
    {
     "data": {
      "text/plain": [
       "'https://jovian.ai/aakashns/python-hash-tables-assignment'"
      ]
     },
     "execution_count": 92,
     "metadata": {},
     "output_type": "execute_result"
    }
   ],
   "source": [
    "jovian.commit(project=project)"
   ]
  },
  {
   "cell_type": "markdown",
   "metadata": {},
   "source": [
    "### (Optional) Hash Table Improvements\n",
    "\n",
    "Here are some more improvements/changes you can make to your hash table implementation:\n",
    "\n",
    "* **Track the size of the hash table** i.e. number of key-value pairs so that `len(table)` has complexity O(1).\n",
    "* **Implement deletion with tombstones** as described here: https://research.cs.vt.edu/AVresearch/hashing/deletion.php\n",
    "* **Implement dynamic resizing** to automatically grow/shrink the data list: https://charlesreid1.com/wiki/Hash_Maps/Dynamic_Resizing\n",
    "* **Implement separate chaining**, an alternative to linear probing for collision resolution: https://www.youtube.com/watch/T9gct6Dx-jo\n"
   ]
  },
  {
   "cell_type": "markdown",
   "metadata": {},
   "source": [
    "### (Optional) Complexity Analysis\n",
    "\n",
    "With choice of a good hashing function and other improvements like dynamic resizing, you can \n",
    "\n",
    "\n",
    "| Operation      | Average-case time complexity | Worst-case time complexity |\n",
    "| ----------- | ----------- |---------|\n",
    "| Insert/Update      | **O(1)**    | **O(n)**|\n",
    "| Find   | **O(1)**    | **O(n)**|\n",
    "| Delete   | **O(1)**    | **O(n)**|\n",
    "| List   | **O(n)**    | **O(n)**|\n",
    "\n",
    "\n",
    "Here are some questions to ponder upon?\n",
    "\n",
    "- What is average case complexity? How does it differ from worst-case complexity?\n",
    "- Do you see why insert/find/update have average-case complexity of O(1) and worst-case complexity of O(n) ?\n",
    "- How is the complexity of hash tables different from binary search trees?\n",
    "- When should you prefer using hash table over binary trees or vice versa?\n",
    "\n",
    "Discuss your answers on the forum: https://jovian.ai/forum/c/data-structures-and-algorithms-in-python/assignment-2/88"
   ]
  }
 ],
 "metadata": {
  "kernelspec": {
   "display_name": "Python 3",
   "language": "python",
   "name": "python3"
  },
  "language_info": {
   "codemirror_mode": {
    "name": "ipython",
    "version": 3
   },
   "file_extension": ".py",
   "mimetype": "text/x-python",
   "name": "python",
   "nbconvert_exporter": "python",
   "pygments_lexer": "ipython3",
   "version": "3.8.10"
  }
 },
 "nbformat": 4,
 "nbformat_minor": 5
}
